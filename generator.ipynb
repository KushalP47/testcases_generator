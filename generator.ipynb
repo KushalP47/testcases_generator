{
 "cells": [
  {
   "cell_type": "code",
   "execution_count": 4,
   "metadata": {},
   "outputs": [],
   "source": [
    "import random\n",
    "\n",
    "def generate_input(test_case_number):\n",
    "    # Example: generating a test case with `n` integers\n",
    "    n = random.randint(1, 100)  # Random size within the constraint\n",
    "    arr1 = [random.randint(0, 1) for _ in range(n)]  # Random array of integers\n",
    "    arr2 = [random.randint(0, 1) for _ in range(n)]  # Random array of integers\n",
    "    input_str = f\"{n}\\n\" + \" \".join(map(str, arr1)) + \"\\n\" + \" \".join(map(str, arr2)) + \"\\n\"\n",
    "    with open(f\"input_{test_case_number}.txt\", \"w\") as f:\n",
    "        f.write(input_str)\n",
    "    return f\"input_{test_case_number}.txt\"\n",
    "\n",
    "# Add more input generators for different test case structures\n"
   ]
  },
  {
   "cell_type": "code",
   "execution_count": 5,
   "metadata": {},
   "outputs": [],
   "source": [
    "import subprocess\n",
    "import os\n",
    "\n",
    "def compile_cpp(solution_file):\n",
    "    compile_command = f\"g++-12 {solution_file} -o solution.out\"\n",
    "    result = subprocess.run(compile_command, shell=True)\n",
    "    if result.returncode != 0:\n",
    "        raise Exception(\"C++ compilation failed\")\n",
    "    return \"./solution.out\"\n",
    "\n",
    "def generate_output(executable, input_file, test_case_number):\n",
    "    with open(input_file, \"r\") as infile:\n",
    "        output_file = f\"output_{test_case_number}.txt\"\n",
    "        with open(output_file, \"w\") as outfile:\n",
    "            # Run the compiled solution with the input file\n",
    "            subprocess.run([executable], stdin=infile, stdout=outfile)\n",
    "    return output_file\n"
   ]
  },
  {
   "cell_type": "code",
   "execution_count": 6,
   "metadata": {},
   "outputs": [
    {
     "name": "stdout",
     "output_type": "stream",
     "text": [
      "Generating test case 1...\n",
      "Test case 1 created: input_1.txt -> output_1.txt\n",
      "Generating test case 2...\n",
      "Test case 2 created: input_2.txt -> output_2.txt\n",
      "Generating test case 3...\n",
      "Test case 3 created: input_3.txt -> output_3.txt\n",
      "Generating test case 4...\n",
      "Test case 4 created: input_4.txt -> output_4.txt\n",
      "Generating test case 5...\n",
      "Test case 5 created: input_5.txt -> output_5.txt\n"
     ]
    }
   ],
   "source": [
    "def generate_test_cases(solution_file, num_cases):\n",
    "    # Step 1: Compile the provided C++ solution\n",
    "    executable = compile_cpp(solution_file)\n",
    "\n",
    "    for i in range(1, num_cases + 1):\n",
    "        print(f\"Generating test case {i}...\")\n",
    "\n",
    "        # Step 2: Generate input\n",
    "        input_file = generate_input(i)\n",
    "\n",
    "        # Step 3: Generate output by running the solution on the input\n",
    "        output_file = generate_output(executable, input_file, i)\n",
    "\n",
    "        print(f\"Test case {i} created: {input_file} -> {output_file}\")\n",
    "\n",
    "if __name__ == \"__main__\":\n",
    "    solution_file = \"solution.cpp\"\n",
    "    num_cases = 5\n",
    "    generate_test_cases(solution_file, num_cases)\n"
   ]
  }
 ],
 "metadata": {
  "kernelspec": {
   "display_name": "base",
   "language": "python",
   "name": "python3"
  },
  "language_info": {
   "codemirror_mode": {
    "name": "ipython",
    "version": 3
   },
   "file_extension": ".py",
   "mimetype": "text/x-python",
   "name": "python",
   "nbconvert_exporter": "python",
   "pygments_lexer": "ipython3",
   "version": "3.11.5"
  }
 },
 "nbformat": 4,
 "nbformat_minor": 2
}
